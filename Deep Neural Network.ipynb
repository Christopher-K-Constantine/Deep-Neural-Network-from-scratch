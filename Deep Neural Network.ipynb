{
 "cells": [
  {
   "cell_type": "code",
   "execution_count": 33,
   "metadata": {},
   "outputs": [],
   "source": [
    "import numpy as np\n",
    "import pandas as pd\n",
    "from sklearn import datasets\n",
    "import matplotlib.pyplot as plt"
   ]
  },
  {
   "cell_type": "code",
   "execution_count": 8,
   "metadata": {},
   "outputs": [],
   "source": [
    "def sigmoid(Z):\n",
    "    A = 1/(1+np.exp(-Z))\n",
    "    return (A,Z)"
   ]
  },
  {
   "cell_type": "code",
   "execution_count": 9,
   "metadata": {},
   "outputs": [],
   "source": [
    "def relu(Z):\n",
    "    A = np.maximum(0,Z)\n",
    "    return (A,Z)"
   ]
  },
  {
   "cell_type": "code",
   "execution_count": 27,
   "metadata": {},
   "outputs": [],
   "source": [
    "def initialize_parameters(layer_dims):\n",
    "    np.random.seed(3)\n",
    "    num_layers= len(layer_dims)\n",
    "    parameters = {}\n",
    "    \n",
    "    for l in range(1,num_layers):\n",
    "        parameters[\"W\"+str(l)] = np.random.randn(layer_dims[l],layer_dims[l-1])*0.01\n",
    "        parameters[\"b\"+str(l)] = np.zeros((layer_dims[l],1))\n",
    "    \n",
    "    return parameters"
   ]
  },
  {
   "cell_type": "code",
   "execution_count": 11,
   "metadata": {},
   "outputs": [],
   "source": [
    "def linear_forward(A_prev,W,b):\n",
    "    Z = np.dot(W,A_prev)+b\n",
    "    linear_cache = (A_prev,W,b)\n",
    "    \n",
    "    return(Z,linear_cache)"
   ]
  },
  {
   "cell_type": "code",
   "execution_count": 12,
   "metadata": {},
   "outputs": [],
   "source": [
    "def linear_activation_forward(A_prev,W,b,activation):\n",
    "    \n",
    "    if activation==\"sigmoid\":\n",
    "        Z,linear_cache = linear_forward(A_prev,W,b)\n",
    "        A,activation_cache = sigmoid(Z)\n",
    "    elif activation==\"relu\":\n",
    "        Z,linear_cache = linear_forward(A_prev,W,b)\n",
    "        A,activation_cache = relu(Z)\n",
    "        \n",
    "    cache = (linear_cache,activation_cache)\n",
    "    \n",
    "    return A,cache"
   ]
  },
  {
   "cell_type": "code",
   "execution_count": 13,
   "metadata": {},
   "outputs": [],
   "source": [
    "def L_model_forward(X,parameters):\n",
    "    #print(type(parameters))\n",
    "    #print(len(parameters))\n",
    "    #print(parameters)\n",
    "    A = X\n",
    "    caches = []\n",
    "    L = len(parameters)//2\n",
    "    \n",
    "    for l in range(1,L):\n",
    "        A_prev = A\n",
    "        A, cache = linear_activation_forward(A_prev,parameters[\"W\"+str(l)],parameters[\"b\"+str(l)],activation=\"relu\")\n",
    "        caches.append(cache)\n",
    "    AL,cache = linear_activation_forward(A,parameters[\"W\"+str(L)],parameters[\"b\"+str(L)],activation=\"sigmoid\")\n",
    "    caches.append(cache)\n",
    "    \n",
    "    return AL,caches"
   ]
  },
  {
   "cell_type": "code",
   "execution_count": 14,
   "metadata": {},
   "outputs": [],
   "source": [
    "def compute_cost(AL,Y):\n",
    "    m = Y.shape[1]\n",
    "    cost = np.sum(Y*np.log(AL)-(1-Y)*(1-np.log(AL)))/(-m)\n",
    "    return cost"
   ]
  },
  {
   "cell_type": "code",
   "execution_count": 15,
   "metadata": {},
   "outputs": [],
   "source": [
    "def linear_backward(dZ,linear_cache):\n",
    "    A_prev,W,b = linear_cache\n",
    "    m = A_prev.shape[1]\n",
    "    \n",
    "    dW = np.dot(dZ,A_prev.T)/m\n",
    "    db = np.sum(dZ)/m\n",
    "    dA_prev = np.dot(W.T,dZ)\n",
    "    \n",
    "    return dA_prev,dW,db"
   ]
  },
  {
   "cell_type": "code",
   "execution_count": 16,
   "metadata": {},
   "outputs": [],
   "source": [
    "def linear_activation_backward(dA, cache, activation):\n",
    "    linear_cache, activation_cache = cache\n",
    "    Z = activation_cache\n",
    "    \n",
    "    if activation ==\"sigmoid\":\n",
    "        s = 1/(1+np.exp(-Z))\n",
    "        dZ = dA * s * (1-s)\n",
    "        dA_prev, dW, db = linear_backward(dZ,linear_cache)\n",
    "    elif activation ==\"relu\":\n",
    "        dZ = np.array(dA, copy=True)\n",
    "        dZ[Z<=0] = 0\n",
    "        dA_prev, dW, db = linear_backward(dZ,linear_cache)\n",
    "    \n",
    "    return dA_prev, dW, db"
   ]
  },
  {
   "cell_type": "code",
   "execution_count": 17,
   "metadata": {},
   "outputs": [],
   "source": [
    "def L_model_backward(AL,Y,caches):\n",
    "    grads = {}\n",
    "    L = len(caches)\n",
    "    m = AL.shape[1]\n",
    "    Y = Y.reshape(AL.shape)\n",
    "    \n",
    "    dAL = -(np.divide(Y,AL)-np.divide((1-Y),(1-AL)))\n",
    "    \n",
    "    current_cache = caches[L-1]\n",
    "    grads[\"dA\"+str(L-1)],grads[\"dW\"+str(L)],grads[\"db\"+str(L)] = linear_activation_backward(dAL,current_cache,activation=\"sigmoid\")\n",
    "    \n",
    "    for l in reversed(range(L-1)):\n",
    "        current_cache = caches[l]\n",
    "        grads[\"dA\"+str(l)],grads[\"dW\"+str(l+1)],grads[\"db\"+str(l+1)] = linear_activation_backward(grads[\"dA\"+str(l+1)],current_cache,activation=\"relu\")\n",
    "        \n",
    "    return grads"
   ]
  },
  {
   "cell_type": "code",
   "execution_count": 18,
   "metadata": {},
   "outputs": [],
   "source": [
    "def update_parameters(parameters,grads,learning_rate):\n",
    "    L = len(parameters)//2\n",
    "    \n",
    "    for l in range(L):\n",
    "        parameters[\"W\"+str(l+1)] = parameters[\"W\"+str(l+1)] - learning_rate* grads[\"dW\"+str(l+1)]\n",
    "        parameters[\"b\"+str(l+1)] = parameters[\"b\"+str(l+1)] - learning_rate* grads[\"db\"+str(l+1)]\n",
    "    return parameters"
   ]
  },
  {
   "cell_type": "code",
   "execution_count": 40,
   "metadata": {},
   "outputs": [],
   "source": [
    "def dnn_model(X,Y,layer_dims,iterations,learning_rate):\n",
    "    \n",
    "    #parameter initialization\n",
    "    parameters = initialize_parameters(layer_dims)\n",
    "    #print(type(parameters))\n",
    "    #print(len(parameters))\n",
    "    #print(parameters)\n",
    "    costs = []\n",
    "    \n",
    "    #Model Training\n",
    "    for i in range(0,iterations):\n",
    "        AL,caches = L_model_forward(X,parameters)\n",
    "        cost = compute_cost(AL,Y)\n",
    "        grads = L_model_backward(AL,Y,caches)\n",
    "        parameters = update_parameters(parameters,grads,learning_rate)\n",
    "        if i%100 == 0:\n",
    "            print('Cost after iteration %i: %f',(i,cost))\n",
    "            costs.append(cost)\n",
    "            \n",
    "    plt.plot(np.squeeze(costs))\n",
    "    plt.xlabel('Number of iterations(hundred)')\n",
    "    plt.ylabel('Cost')\n",
    "    plt.title('Learning rate: '+str(learning_rate))\n",
    "    plt.show()\n",
    "    \n",
    "    return parameters"
   ]
  },
  {
   "cell_type": "code",
   "execution_count": 44,
   "metadata": {},
   "outputs": [],
   "source": [
    "def predict(X,parameters):\n",
    "    AL,caches = L_model_forward(X,parameters)\n",
    "    predictions = int((AL>0.5))\n",
    "    \n",
    "    return predictions"
   ]
  },
  {
   "cell_type": "code",
   "execution_count": 51,
   "metadata": {},
   "outputs": [
    {
     "name": "stdout",
     "output_type": "stream",
     "text": [
      "<class 'pandas.core.frame.DataFrame'>\n",
      "RangeIndex: 891 entries, 0 to 890\n",
      "Data columns (total 12 columns):\n",
      "PassengerId    891 non-null int64\n",
      "Survived       891 non-null int64\n",
      "Pclass         891 non-null int64\n",
      "Name           891 non-null object\n",
      "Sex            891 non-null object\n",
      "Age            714 non-null float64\n",
      "SibSp          891 non-null int64\n",
      "Parch          891 non-null int64\n",
      "Ticket         891 non-null object\n",
      "Fare           891 non-null float64\n",
      "Cabin          204 non-null object\n",
      "Embarked       889 non-null object\n",
      "dtypes: float64(2), int64(5), object(5)\n",
      "memory usage: 83.7+ KB\n",
      "(4, 891)\n"
     ]
    }
   ],
   "source": [
    "data = pd.read_csv(\"Datasets/Titanic/train.csv\")\n",
    "#data.head()\n",
    "X = np.array(data.drop(['Survived','Name','Sex','Ticket','Cabin','Embarked','Fare','Age'], axis=1)).T\n",
    "Y = np.array(data[\"Survived\"]).reshape((1,data.shape[0]))\n",
    "data.info()\n",
    "print(X.shape)"
   ]
  },
  {
   "cell_type": "code",
   "execution_count": 62,
   "metadata": {},
   "outputs": [
    {
     "name": "stdout",
     "output_type": "stream",
     "text": [
      "(2, 150)\n",
      "(1, 150)\n",
      "Cost after iteration %i: %f (0, 0.6931552124623925)\n",
      "Cost after iteration %i: %f (100, 0.10654204820425472)\n",
      "Cost after iteration %i: %f (200, 0.053455773050567125)\n",
      "Cost after iteration %i: %f (300, 0.03532874717259062)\n",
      "Cost after iteration %i: %f (400, 0.02630109319618332)\n",
      "Cost after iteration %i: %f (500, 0.020919893522263304)\n",
      "Cost after iteration %i: %f (600, 0.017354391167408587)\n",
      "Cost after iteration %i: %f (700, 0.014821120263510654)\n",
      "Cost after iteration %i: %f (800, 0.01292979350936207)\n",
      "Cost after iteration %i: %f (900, 0.011464492135940153)\n"
     ]
    },
    {
     "data": {
      "image/png": "[encoded data removed]",
      "text/plain": [
       "<Figure size 432x288 with 1 Axes>"
      ]
     },
     "metadata": {
      "needs_background": "light"
     },
     "output_type": "display_data"
    },
    {
     "name": "stdout",
     "output_type": "stream",
     "text": [
      "6\n",
      "{'W1': array([[ 0.01779399,  0.00432836],\n",
      "       [ 0.00096497, -0.01863493],\n",
      "       [-0.00277388, -0.00354759]]), 'b1': array([[-1.3354852e-05],\n",
      "       [-1.3354852e-05],\n",
      "       [-1.3354852e-05]]), 'W2': array([[-0.00082741, -0.00627001, -0.00043818],\n",
      "       [-0.00477218, -0.01313865,  0.00884622],\n",
      "       [ 0.00860674,  0.01709573,  0.00050034]]), 'b2': array([[-0.00152425],\n",
      "       [-0.00152425],\n",
      "       [-0.00152425]]), 'W3': array([[-0.00404677, -0.0054536 , -0.01538529]]), 'b3': array([[4.57082799]])}\n"
     ]
    }
   ],
   "source": [
    "# Iris Dataset\n",
    "iris = datasets.load_iris()\n",
    "X = iris.data[:,:2].T\n",
    "Y = iris.target.reshape((1,X.shape[1]))\n",
    "print(X.shape)\n",
    "print(Y.shape)\n",
    "\n",
    "# Titanic Dataset\n",
    "#data = pd.read_csv(\"Datasets/Titanic/train.csv\")\n",
    "#data.head()\n",
    "#X = np.array(data.drop(['Survived','Name','Sex','Ticket','Cabin','Embarked','Fare','Age'], axis=1)).T\n",
    "#Y = np.array(data[\"Survived\"]).reshape((1,data.shape[0]))\n",
    "\n",
    "learning_rate = 0.1\n",
    "iterations = 1000\n",
    "layer_dims = [2,3,3,1]\n",
    "np.random.seed(4)\n",
    "\n",
    "parameters = dnn_model(X,Y,layer_dims,iterations,learning_rate)\n",
    "#print(len(parameters))\n",
    "print(parameters)"
   ]
  },
  {
   "cell_type": "code",
   "execution_count": 47,
   "metadata": {},
   "outputs": [
    {
     "name": "stdout",
     "output_type": "stream",
     "text": [
      "1\n"
     ]
    }
   ],
   "source": [
    "predictions = predict([[7.0],[3.2]],parameters)\n",
    "print(predictions)"
   ]
  },
  {
   "cell_type": "code",
   "execution_count": null,
   "metadata": {},
   "outputs": [],
   "source": []
  }
 ],
 "metadata": {
  "kernelspec": {
   "display_name": "Python 3",
   "language": "python",
   "name": "python3"
  },
  "language_info": {
   "codemirror_mode": {
    "name": "ipython",
    "version": 3
   },
   "file_extension": ".py",
   "mimetype": "text/x-python",
   "name": "python",
   "nbconvert_exporter": "python",
   "pygments_lexer": "ipython3",
   "version": "3.7.4"
  }
 },
 "nbformat": 4,
 "nbformat_minor": 2
}
